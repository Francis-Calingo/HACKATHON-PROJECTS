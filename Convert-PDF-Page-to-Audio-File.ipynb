{
 "cells": [
  {
   "cell_type": "code",
   "execution_count": 105,
   "id": "3bf43067-e325-4ba8-9e43-98a9634579a5",
   "metadata": {
    "tags": []
   },
   "outputs": [],
   "source": [
    "###Generate Audio File from PDF\n",
    "##BY: Francis Emmanuel Calingo"
   ]
  },
  {
   "cell_type": "code",
   "execution_count": 106,
   "id": "5e376293-f203-4836-8c61-908deeca9472",
   "metadata": {
    "tags": []
   },
   "outputs": [],
   "source": [
    "#Hello, reader! Thank you for taking the time to read my very first Hackathon project! This is my first attempt at doing a project of this nature.\n",
    "#So, by no means is this a great project nor will I claim this to be an original. In fact, most of the code used in this project is an\n",
    "#amalgamation of suggested codes ascertained from various sources such as Medium articles and StackExchange, so credit to the original posters.\n",
    "#With that said, I decided to go through with this submission, both to get my feet wet in terms of AI and to also gain the confidence of opening\n",
    "#up my works to constructive feedback from members of the very helpful programming and data science community!"
   ]
  },
  {
   "cell_type": "code",
   "execution_count": 107,
   "id": "b0166564-8d32-4b41-9d95-5dca4ab79347",
   "metadata": {
    "tags": []
   },
   "outputs": [],
   "source": [
    "#With that said, let us begin coding by installog then importing two relevant libraries."
   ]
  },
  {
   "cell_type": "code",
   "execution_count": 108,
   "id": "aa931216-32c9-4dd4-9227-fdacbd019c9a",
   "metadata": {
    "tags": []
   },
   "outputs": [
    {
     "name": "stdout",
     "output_type": "stream",
     "text": [
      "Requirement already satisfied: PyPDF2 in c:\\users\\calin\\anaconda3\\lib\\site-packages (3.0.1)\n"
     ]
    }
   ],
   "source": [
    "!pip install PyPDF2"
   ]
  },
  {
   "cell_type": "code",
   "execution_count": 109,
   "id": "d8150357-d838-4ea5-b665-934de08cf3d3",
   "metadata": {
    "tags": []
   },
   "outputs": [
    {
     "name": "stdout",
     "output_type": "stream",
     "text": [
      "Requirement already satisfied: pyttsx3 in c:\\users\\calin\\anaconda3\\lib\\site-packages (2.90)\n",
      "Requirement already satisfied: comtypes in c:\\users\\calin\\anaconda3\\lib\\site-packages (from pyttsx3) (1.4.5)\n",
      "Requirement already satisfied: pypiwin32 in c:\\users\\calin\\anaconda3\\lib\\site-packages (from pyttsx3) (223)\n",
      "Requirement already satisfied: pywin32 in c:\\users\\calin\\anaconda3\\lib\\site-packages (from pyttsx3) (305.1)\n"
     ]
    }
   ],
   "source": [
    "!pip install pyttsx3"
   ]
  },
  {
   "cell_type": "code",
   "execution_count": 110,
   "id": "dc6b5289-1340-47ec-b0ac-5e9d7b651a60",
   "metadata": {
    "tags": []
   },
   "outputs": [],
   "source": [
    "import PyPDF2\n",
    "import pyttsx3"
   ]
  },
  {
   "cell_type": "code",
   "execution_count": 111,
   "id": "3889c5e3-c5e6-4444-81f9-b66209a01201",
   "metadata": {
    "tags": []
   },
   "outputs": [],
   "source": [
    "#I will use the downloaded PDF version of the slides used for the GitHub Copilot workshop from this weekend.\n",
    "file = open('Making Better Hacks, Faster with GitHub Copilot [Participant Slides].pdf', 'rb')\n",
    "readpdf = PyPDF2.PdfReader(file)"
   ]
  },
  {
   "cell_type": "code",
   "execution_count": 112,
   "id": "08d77a01-9db5-4134-b7b5-f1b946db3b19",
   "metadata": {
    "tags": []
   },
   "outputs": [],
   "source": [
    "#Initialize text-to-speech engine. We will use four versions:\n",
    "#Version 1=Fast, high volume\n",
    "#Version 2=Fast, low volumer\n",
    "#Version 3=Slow, high volume\n",
    "#Version 4=Slow, low volumer\n",
    "speaker1 = pyttsx3.init()\n",
    "speaker2 = pyttsx3.init()\n",
    "speaker3 = pyttsx3.init()\n",
    "speaker4 = pyttsx3.init()"
   ]
  },
  {
   "cell_type": "code",
   "execution_count": 123,
   "id": "f1a8d548-4dcf-4a6b-a2f9-a26e7909d8b2",
   "metadata": {
    "tags": []
   },
   "outputs": [],
   "source": [
    "rate1 = speaker1.getProperty('rate')   #Get current speaking rate\n",
    "speaker1.setProperty('rate', 200) #This speed is fast."
   ]
  },
  {
   "cell_type": "code",
   "execution_count": 124,
   "id": "88fb2c1c-834c-4507-83fe-8e19e8a48eb2",
   "metadata": {
    "tags": []
   },
   "outputs": [],
   "source": [
    "volume1 = speaker1.getProperty('volume')\n",
    "speaker1.setProperty('volume', 1.0)  #Set volume level (0.0 to 1.0)"
   ]
  },
  {
   "cell_type": "code",
   "execution_count": 125,
   "id": "13aad4ec-9f32-48ae-bea4-6906fbbf27c5",
   "metadata": {
    "tags": []
   },
   "outputs": [],
   "source": [
    "#Repeat for the other versions\n",
    "\n",
    "#Version 2\n",
    "rate2 = speaker2.getProperty('rate')\n",
    "speaker2.setProperty('rate', 200)\n",
    "\n",
    "volume2 = speaker2.getProperty('volume')\n",
    "speaker2.setProperty('volume', 0.5)\n",
    "\n",
    "#Version 3\n",
    "rate3 = speaker3.getProperty('rate')\n",
    "speaker3.setProperty('rate', 100)\n",
    "\n",
    "volume3 = speaker3.getProperty('volume')\n",
    "speaker3.setProperty('volume', 1.0)\n",
    "\n",
    "#Version 4\n",
    "rate4 = speaker4.getProperty('rate')\n",
    "speaker4.setProperty('rate', 100)\n",
    "\n",
    "volume4 = speaker4.getProperty('volume')\n",
    "speaker4.setProperty('volume', 0.5)"
   ]
  },
  {
   "cell_type": "code",
   "execution_count": 126,
   "id": "4ed8e10e-389f-4b4f-8747-2acc171377d0",
   "metadata": {
    "tags": []
   },
   "outputs": [],
   "source": [
    "#Set the voice. It will be the default voice of the device.\n",
    "voices1 = speaker1.getProperty('voices')\n",
    "for voice in voices1:\n",
    "    if \"english\" in voice.name.upper() and \"us\" in voice.name.upper():\n",
    "        speaker1.setProperty('voice', voice[1].id)\n",
    "        break\n",
    "        \n",
    "voices2 = speaker2.getProperty('voices')\n",
    "for voice in voices2:\n",
    "    if \"english\" in voice.name.upper() and \"us\" in voice.name.upper():\n",
    "        speaker2.setProperty('voice', voice[1].id)\n",
    "        break\n",
    "        \n",
    "voices3 = speaker3.getProperty('voices')\n",
    "for voice in voices3:\n",
    "    if \"english\" in voice.name.upper() and \"us\" in voice.name.upper():\n",
    "        speaker3.setProperty('voice', voice[1].id)\n",
    "        break\n",
    "        \n",
    "voices4 = speaker1.getProperty('voices')\n",
    "for voice in voices4:\n",
    "    if \"english\" in voice.name.upper() and \"us\" in voice.name.upper():\n",
    "        speaker4.setProperty('voice', voice[1].id)\n",
    "        break"
   ]
  },
  {
   "cell_type": "code",
   "execution_count": 127,
   "id": "54688459-e864-4f40-badb-894ada236897",
   "metadata": {
    "tags": []
   },
   "outputs": [],
   "source": [
    "#Iterate over each page in the PDF\n",
    "for pagenumber in range(len(readpdf.pages)):\n",
    "    #Extract text from the page\n",
    "    page = readpdf.pages[5] #Note that 0=the first page of the pdf file. For this example, we are extracting text from the 6th page.\n",
    "    text = page.extract_text()"
   ]
  },
  {
   "cell_type": "code",
   "execution_count": 128,
   "id": "14120700-da03-4d6b-8443-f2d11681125d",
   "metadata": {
    "tags": []
   },
   "outputs": [],
   "source": [
    "#Save the appropriate audio files\n",
    "speaker1.save_to_file(text, 'TestVersion1.mp3')\n",
    "speaker1.runAndWait()\n",
    "\n",
    "speaker2.save_to_file(text, 'TestVersion2.mp3')\n",
    "speaker2.runAndWait()\n",
    "\n",
    "speaker3.save_to_file(text, 'TestVersion3.mp3')\n",
    "speaker3.runAndWait()\n",
    "\n",
    "speaker4.save_to_file(text, 'TestVersion4.mp3')\n",
    "speaker4.runAndWait()"
   ]
  },
  {
   "cell_type": "code",
   "execution_count": 129,
   "id": "b894ec1e-a51a-4ccd-9bb2-f99532fcac40",
   "metadata": {
    "tags": []
   },
   "outputs": [],
   "source": [
    "#Stop the speaker\n",
    "speaker1.stop()\n",
    "\n",
    "speaker2.stop()\n",
    "\n",
    "speaker3.stop()\n",
    "\n",
    "speaker4.stop()\n",
    "\n",
    "\n",
    "#Close the PDF file\n",
    "file.close()"
   ]
  },
  {
   "cell_type": "code",
   "execution_count": 130,
   "id": "9efd889e-be92-4fd8-8367-177d4eb9ebd2",
   "metadata": {
    "tags": []
   },
   "outputs": [],
   "source": [
    "##Next steps"
   ]
  },
  {
   "cell_type": "code",
   "execution_count": 131,
   "id": "e627a548-6d25-4273-9741-f92ea1e1401a",
   "metadata": {
    "tags": []
   },
   "outputs": [],
   "source": [
    "#For next time, I will challenge myself by testing different voices, trying to generate an entire audio file from an entire PDF odcument,\n",
    "#try generating an audio file of a summarized version of a pdf file, and try to generate audio files of different document types such as docx.\n",
    "#Thank you for reading my project! I look forward to your feedback. :)"
   ]
  },
  {
   "cell_type": "code",
   "execution_count": null,
   "id": "f100f011-03e9-400a-9bd7-4aa4af3021ff",
   "metadata": {},
   "outputs": [],
   "source": []
  }
 ],
 "metadata": {
  "kernelspec": {
   "display_name": "Python 3 (ipykernel)",
   "language": "python",
   "name": "python3"
  },
  "language_info": {
   "codemirror_mode": {
    "name": "ipython",
    "version": 3
   },
   "file_extension": ".py",
   "mimetype": "text/x-python",
   "name": "python",
   "nbconvert_exporter": "python",
   "pygments_lexer": "ipython3",
   "version": "3.11.5"
  }
 },
 "nbformat": 4,
 "nbformat_minor": 5
}
